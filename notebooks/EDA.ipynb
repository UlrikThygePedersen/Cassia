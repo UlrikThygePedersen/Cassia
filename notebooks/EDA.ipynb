{
 "cells": [
  {
   "cell_type": "code",
   "execution_count": 3,
   "metadata": {},
   "outputs": [
    {
     "ename": "ModuleNotFoundError",
     "evalue": "No module named 'pandas'",
     "output_type": "error",
     "traceback": [
      "\u001b[1;31m---------------------------------------------------------------------------\u001b[0m",
      "\u001b[1;31mModuleNotFoundError\u001b[0m                       Traceback (most recent call last)",
      "Cell \u001b[1;32mIn[3], line 1\u001b[0m\n\u001b[1;32m----> 1\u001b[0m \u001b[38;5;28;01mimport\u001b[39;00m \u001b[38;5;21;01mpandas\u001b[39;00m \u001b[38;5;28;01mas\u001b[39;00m \u001b[38;5;21;01mpd\u001b[39;00m\n",
      "\u001b[1;31mModuleNotFoundError\u001b[0m: No module named 'pandas'"
     ]
    }
   ],
   "source": [
    "import pandas as pd\n",
    "\n",
    "ports_df = pd.read_csv(\"../assets/ports.csv\")\n",
    "tide_heights_df = pd.read_csv(\"../assets/tide_heights.csv\")\n",
    "vessels_df = pd.read_csv(\"../assets/vessels.csv\")\n",
    "\n"
   ]
  },
  {
   "cell_type": "markdown",
   "metadata": {},
   "source": [
    "### Vessels\n",
    "\n",
    "#### IMO is a unique identifier for the vessel.\n",
    "#### DRAUGHT indicates how deep the vessel sits in the water.\n",
    "#### NAME is the vessel's name.\n",
    "#### DWT shows the vessel's carrying capacity in metric tons."
   ]
  },
  {
   "cell_type": "code",
   "execution_count": null,
   "metadata": {},
   "outputs": [],
   "source": [
    "from dataclasses import dataclass\n",
    "\n",
    "@dataclass\n",
    "class Vessel:\n",
    "    imo: int\n",
    "    draught: float\n",
    "    name: str\n",
    "    dwt: float\n",
    "\n",
    "\n",
    "import pandas as pd\n",
    "\n",
    "# Load the CSV file into a pandas DataFrame\n",
    "df = pd.read_csv(\"../assets/vessels.csv\")\n",
    "\n",
    "# Create the dispatcher dictionary\n",
    "vessels_dispatcher = {\n",
    "    row['IMO']: Vessel(\n",
    "        imo=row['IMO'],\n",
    "        draught=row['DRAUGHT'],\n",
    "        name=row['NAME'],\n",
    "        dwt=row['DWT']\n",
    "    )\n",
    "    for _, row in df.iterrows()\n",
    "}\n",
    "\n",
    "# Example: Access the vessel data for IMO 9790933 (UNITY LIFE)\n",
    "unity_life = vessels_dispatcher.get(9790933)\n",
    "print(unity_life)\n"
   ]
  },
  {
   "cell_type": "markdown",
   "metadata": {},
   "source": [
    "# Ports"
   ]
  },
  {
   "cell_type": "code",
   "execution_count": null,
   "metadata": {},
   "outputs": [],
   "source": [
    "from dataclasses import dataclass\n",
    "\n",
    "@dataclass\n",
    "class Port:\n",
    "    name: str\n",
    "    latitude: float\n",
    "    longitude: float\n",
    "    approach_mllw_meters: float\n",
    "\n",
    "import pandas as pd\n",
    "\n",
    "# Load the CSV file into a pandas DataFrame\n",
    "df = pd.read_csv(\"../assets/ports.csv\")\n",
    "\n",
    "# Create the dispatcher dictionary\n",
    "ports_dispatcher = {\n",
    "    row['UNLOCODE']: Port(\n",
    "        name=row['NAME'],\n",
    "        latitude=row['LATITUDE'],\n",
    "        longitude=row['LONGITUDE'],\n",
    "        approach_mllw_meters=row['APPROACH_MLLW_METERS']\n",
    "    )\n",
    "    for _, row in df.iterrows()\n",
    "}\n",
    "\n",
    "# Example: Access the port data for \"AUABP\"\n",
    "abbot_point = ports_dispatcher[\"AUABP\"]\n",
    "print(abbot_point)\n"
   ]
  },
  {
   "cell_type": "code",
   "execution_count": null,
   "metadata": {},
   "outputs": [],
   "source": []
  }
 ],
 "metadata": {
  "kernelspec": {
   "display_name": "Python 3",
   "language": "python",
   "name": "python3"
  },
  "language_info": {
   "codemirror_mode": {
    "name": "ipython",
    "version": 3
   },
   "file_extension": ".py",
   "mimetype": "text/x-python",
   "name": "python",
   "nbconvert_exporter": "python",
   "pygments_lexer": "ipython3",
   "version": "3.9.7"
  }
 },
 "nbformat": 4,
 "nbformat_minor": 2
}
